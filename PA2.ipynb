{
 "cells": [
  {
   "cell_type": "markdown",
   "id": "72586fe9",
   "metadata": {},
   "source": [
    "# Programming Assignment 2 \n",
    "## Aidan Fearn\n",
    "### CS-150, Fall 2023\n",
    "#### Version 1"
   ]
  },
  {
   "cell_type": "markdown",
   "id": "bea67ba8",
   "metadata": {},
   "source": [
    "## Task 1"
   ]
  },
  {
   "cell_type": "code",
   "execution_count": 1,
   "id": "86624230",
   "metadata": {},
   "outputs": [
    {
     "name": "stdout",
     "output_type": "stream",
     "text": [
      "My name is Aidan Fearn, I am 21 years old, I am 188cm tall and my favourite colour is Blue\n"
     ]
    }
   ],
   "source": [
    "x= \"Aidan Fearn\"\n",
    "y= 21\n",
    "z= 188\n",
    "w= \"Blue\"\n",
    "print(f\"My name is {x}, I am {y} years old, I am {z}cm tall and my favourite colour is {w}\")"
   ]
  },
  {
   "cell_type": "markdown",
   "id": "8a9dbf80",
   "metadata": {},
   "source": [
    "## Task 2"
   ]
  },
  {
   "cell_type": "code",
   "execution_count": 5,
   "id": "e010e034",
   "metadata": {},
   "outputs": [
    {
     "name": "stdout",
     "output_type": "stream",
     "text": [
      "The temperature is 32 degrees celsius, which is 89.6 degrees farenheit.\n"
     ]
    }
   ],
   "source": [
    "celsius_temp= 32\n",
    "farenheit_temp= ((celsius_temp*1.8)+32)\n",
    "print(f\"The temperature is {celsius_temp} degrees celsius, which is {farenheit_temp} degrees farenheit.\")"
   ]
  },
  {
   "cell_type": "markdown",
   "id": "7131c1ba",
   "metadata": {},
   "source": [
    "## Task 3"
   ]
  },
  {
   "cell_type": "code",
   "execution_count": 7,
   "id": "cd15f48b",
   "metadata": {},
   "outputs": [
    {
     "name": "stdout",
     "output_type": "stream",
     "text": [
      "103\n",
      "-9\n",
      "2632\n",
      "0.8392857142857143\n"
     ]
    }
   ],
   "source": [
    "num1= 47\n",
    "num2= 56\n",
    "print(num1+num2)\n",
    "print(num1-num2)\n",
    "print(num1*num2)\n",
    "print(num1/num2)"
   ]
  },
  {
   "cell_type": "markdown",
   "id": "7421de90",
   "metadata": {},
   "source": [
    "## Task 4"
   ]
  },
  {
   "cell_type": "code",
   "execution_count": 4,
   "id": "033232e2",
   "metadata": {},
   "outputs": [
    {
     "name": "stdout",
     "output_type": "stream",
     "text": [
      "I dreamed a dream\n",
      "the lower case:  i dreamed a dream\n",
      "the upper case:  I DREAMED A DREAM\n",
      "I dreamed a dream\n",
      "\n",
      "I \n",
      "dreamed \n",
      "a \n",
      "dream\n"
     ]
    }
   ],
   "source": [
    "quote= \"I dreamed a dream\"\n",
    "print(quote)\n",
    "print(\"the lower case: \",quote.lower())\n",
    "print(\"the upper case: \",quote.upper())\n",
    "print(quote.strip())\n",
    "print(\"\\nI \\ndreamed \\na \\ndream\")"
   ]
  },
  {
   "cell_type": "markdown",
   "id": "4a744055",
   "metadata": {},
   "source": [
    "## Task 5"
   ]
  },
  {
   "cell_type": "code",
   "execution_count": 9,
   "id": "1913241e",
   "metadata": {},
   "outputs": [
    {
     "name": "stdout",
     "output_type": "stream",
     "text": [
      "The first integer number is: 75\n",
      "The second integer number is: 34\n",
      "The sum is: 109\n",
      "The difference is: 41\n",
      "The product is: 2550\n",
      "The quotient is: 2.2058823529411766\n"
     ]
    }
   ],
   "source": [
    "number1= int(input(\"The first integer number is: \"))\n",
    "number2= int(input(\"The second integer number is: \"))\n",
    "print(f\"The sum is: {number1+number2}\")\n",
    "print(f\"The difference is: {number1-number2}\")\n",
    "print(f\"The product is: {number1*number2}\")\n",
    "print(f\"The quotient is: {number1/number2}\")"
   ]
  }
 ],
 "metadata": {
  "kernelspec": {
   "display_name": "Python 3 (ipykernel)",
   "language": "python",
   "name": "python3"
  },
  "language_info": {
   "codemirror_mode": {
    "name": "ipython",
    "version": 3
   },
   "file_extension": ".py",
   "mimetype": "text/x-python",
   "name": "python",
   "nbconvert_exporter": "python",
   "pygments_lexer": "ipython3",
   "version": "3.11.4"
  }
 },
 "nbformat": 4,
 "nbformat_minor": 5
}
